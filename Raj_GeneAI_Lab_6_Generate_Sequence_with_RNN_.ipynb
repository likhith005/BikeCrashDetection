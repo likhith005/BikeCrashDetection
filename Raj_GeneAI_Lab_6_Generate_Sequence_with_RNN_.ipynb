{
  "nbformat": 4,
  "nbformat_minor": 0,
  "metadata": {
    "colab": {
      "provenance": [],
      "gpuType": "T4",
      "include_colab_link": true
    },
    "kernelspec": {
      "name": "python3",
      "display_name": "Python 3"
    },
    "language_info": {
      "name": "python"
    },
    "accelerator": "GPU"
  },
  "cells": [
    {
      "cell_type": "markdown",
      "metadata": {
        "id": "view-in-github",
        "colab_type": "text"
      },
      "source": [
        "<a href=\"https://colab.research.google.com/github/likhith005/BikeCrashDetection/blob/main/Raj_GeneAI_Lab_6_Generate_Sequence_with_RNN_.ipynb\" target=\"_parent\"><img src=\"https://colab.research.google.com/assets/colab-badge.svg\" alt=\"Open In Colab\"/></a>"
      ]
    },
    {
      "cell_type": "markdown",
      "source": [
        "Recurrent Neural Networks (RNNs) for Sequence Generation : Acquire hands-on experience in constructing and training RNNs to\n",
        "        generate text sequences that are coherent and contextually relevant."
      ],
      "metadata": {
        "id": "UsnATRoqN4eq"
      }
    },
    {
      "cell_type": "code",
      "source": [
        "import tensorflow as tf\n",
        "\n",
        "import numpy as np\n",
        "import os\n",
        "import time"
      ],
      "metadata": {
        "id": "3Gsx1OZdTunK"
      },
      "execution_count": null,
      "outputs": []
    },
    {
      "cell_type": "code",
      "source": [
        "!git clone https://github.com/likhith005/Generative-AI.git\n"
      ],
      "metadata": {
        "colab": {
          "base_uri": "https://localhost:8080/"
        },
        "id": "eR3EX2_yVnMs",
        "outputId": "4c80d298-b08e-470b-aeb0-4229ff50881f"
      },
      "execution_count": 1,
      "outputs": [
        {
          "output_type": "stream",
          "name": "stdout",
          "text": [
            "Cloning into 'Generative-AI'...\n",
            "warning: You appear to have cloned an empty repository.\n"
          ]
        }
      ]
    },
    {
      "cell_type": "markdown",
      "source": [
        "### Load the Shakespeare dataset"
      ],
      "metadata": {
        "id": "q04-wijyX9fA"
      }
    },
    {
      "cell_type": "code",
      "source": [
        "path_to_file = tf.keras.utils.get_file('shakespeare.txt', 'https://storage.googleapis.com/download.tensorflow.org/data/shakespeare.txt')"
      ],
      "metadata": {
        "colab": {
          "base_uri": "https://localhost:8080/"
        },
        "id": "ETvZeBpzTvDp",
        "outputId": "2c86b33b-f34c-417c-aab6-b9dc22706f01"
      },
      "execution_count": null,
      "outputs": [
        {
          "output_type": "stream",
          "name": "stdout",
          "text": [
            "Downloading data from https://storage.googleapis.com/download.tensorflow.org/data/shakespeare.txt\n",
            "1115394/1115394 [==============================] - 0s 0us/step\n"
          ]
        }
      ]
    },
    {
      "cell_type": "code",
      "source": [
        "# Read, then decode for py2 compat.\n",
        "text = open(path_to_file, 'rb').read().decode(encoding='utf-8')\n",
        "# length of text is the number of characters in it\n",
        "print(f'Length of text: {len(text)} characters')\n",
        "# Take a look at the first 250 characters in text\n",
        "print(text[:250])\n",
        "\n",
        "# The unique characters in the file\n",
        "vocab = sorted(set(text))\n",
        "print(f'{len(vocab)} unique characters')"
      ],
      "metadata": {
        "colab": {
          "base_uri": "https://localhost:8080/"
        },
        "id": "PyqLT2gJTxQ1",
        "outputId": "54c53d21-8d7c-4049-9f1d-bbf695ac9b89"
      },
      "execution_count": null,
      "outputs": [
        {
          "output_type": "stream",
          "name": "stdout",
          "text": [
            "Length of text: 1115394 characters\n",
            "First Citizen:\n",
            "Before we proceed any further, hear me speak.\n",
            "\n",
            "All:\n",
            "Speak, speak.\n",
            "\n",
            "First Citizen:\n",
            "You are all resolved rather to die than to famish?\n",
            "\n",
            "All:\n",
            "Resolved. resolved.\n",
            "\n",
            "First Citizen:\n",
            "First, you know Caius Marcius is chief enemy to the people.\n",
            "\n",
            "65 unique characters\n"
          ]
        }
      ]
    },
    {
      "cell_type": "markdown",
      "source": [
        "### Preprocess the text"
      ],
      "metadata": {
        "id": "ebIF_aTfYUPV"
      }
    },
    {
      "cell_type": "code",
      "source": [
        "example_texts = ['abcdefg', 'xyz']\n",
        "\n",
        "chars = tf.strings.unicode_split(example_texts, input_encoding='UTF-8')\n",
        "print(chars)\n",
        "\n",
        "ids_from_chars = tf.keras.layers.StringLookup(\n",
        "    vocabulary=list(vocab), mask_token=None)\n",
        "ids = ids_from_chars(chars)\n",
        "print(ids)"
      ],
      "metadata": {
        "colab": {
          "base_uri": "https://localhost:8080/"
        },
        "id": "2ZA4ypdST36k",
        "outputId": "30776b98-898f-4c92-e810-e5cd39e735c7"
      },
      "execution_count": null,
      "outputs": [
        {
          "output_type": "stream",
          "name": "stdout",
          "text": [
            "<tf.RaggedTensor [[b'a', b'b', b'c', b'd', b'e', b'f', b'g'], [b'x', b'y', b'z']]>\n",
            "<tf.RaggedTensor [[40, 41, 42, 43, 44, 45, 46], [63, 64, 65]]>\n"
          ]
        }
      ]
    },
    {
      "cell_type": "code",
      "source": [
        "chars_from_ids = tf.keras.layers.StringLookup(\n",
        "    vocabulary=ids_from_chars.get_vocabulary(), invert=True, mask_token=None)\n",
        "chars = chars_from_ids(ids)\n",
        "chars"
      ],
      "metadata": {
        "colab": {
          "base_uri": "https://localhost:8080/"
        },
        "id": "H_J9yVeKWlN0",
        "outputId": "aed4747d-8764-4a25-bd0f-c3641babaa95"
      },
      "execution_count": null,
      "outputs": [
        {
          "output_type": "execute_result",
          "data": {
            "text/plain": [
              "<tf.RaggedTensor [[b'a', b'b', b'c', b'd', b'e', b'f', b'g'], [b'x', b'y', b'z']]>"
            ]
          },
          "metadata": {},
          "execution_count": 5
        }
      ]
    },
    {
      "cell_type": "code",
      "source": [
        "tf.strings.reduce_join(chars, axis=-1).numpy()\n",
        "\n",
        "def text_from_ids(ids):\n",
        "  return tf.strings.reduce_join(chars_from_ids(ids), axis=-1)\n",
        "all_ids = ids_from_chars(tf.strings.unicode_split(text, 'UTF-8'))\n",
        "all_ids"
      ],
      "metadata": {
        "colab": {
          "base_uri": "https://localhost:8080/"
        },
        "id": "oBU1RewiWwbu",
        "outputId": "9bfe62ab-44ce-482b-d323-80c51616b2bf"
      },
      "execution_count": null,
      "outputs": [
        {
          "output_type": "execute_result",
          "data": {
            "text/plain": [
              "<tf.Tensor: shape=(1115394,), dtype=int64, numpy=array([19, 48, 57, ..., 46,  9,  1])>"
            ]
          },
          "metadata": {},
          "execution_count": 6
        }
      ]
    },
    {
      "cell_type": "code",
      "source": [
        "ids_dataset = tf.data.Dataset.from_tensor_slices(all_ids)\n",
        "\n",
        "for ids in ids_dataset.take(10):\n",
        "    print(chars_from_ids(ids).numpy().decode('utf-8'))\n",
        "\n",
        "seq_length = 100\n",
        "sequences = ids_dataset.batch(seq_length+1, drop_remainder=True)\n",
        "\n",
        "for seq in sequences.take(1):\n",
        "  print(chars_from_ids(seq))"
      ],
      "metadata": {
        "colab": {
          "base_uri": "https://localhost:8080/"
        },
        "id": "1Jm9B5w5W3sl",
        "outputId": "5a49be05-2e22-4d46-c191-cca4554bc88b"
      },
      "execution_count": null,
      "outputs": [
        {
          "output_type": "stream",
          "name": "stdout",
          "text": [
            "F\n",
            "i\n",
            "r\n",
            "s\n",
            "t\n",
            " \n",
            "C\n",
            "i\n",
            "t\n",
            "i\n",
            "tf.Tensor(\n",
            "[b'F' b'i' b'r' b's' b't' b' ' b'C' b'i' b't' b'i' b'z' b'e' b'n' b':'\n",
            " b'\\n' b'B' b'e' b'f' b'o' b'r' b'e' b' ' b'w' b'e' b' ' b'p' b'r' b'o'\n",
            " b'c' b'e' b'e' b'd' b' ' b'a' b'n' b'y' b' ' b'f' b'u' b'r' b't' b'h'\n",
            " b'e' b'r' b',' b' ' b'h' b'e' b'a' b'r' b' ' b'm' b'e' b' ' b's' b'p'\n",
            " b'e' b'a' b'k' b'.' b'\\n' b'\\n' b'A' b'l' b'l' b':' b'\\n' b'S' b'p' b'e'\n",
            " b'a' b'k' b',' b' ' b's' b'p' b'e' b'a' b'k' b'.' b'\\n' b'\\n' b'F' b'i'\n",
            " b'r' b's' b't' b' ' b'C' b'i' b't' b'i' b'z' b'e' b'n' b':' b'\\n' b'Y'\n",
            " b'o' b'u' b' '], shape=(101,), dtype=string)\n"
          ]
        }
      ]
    },
    {
      "cell_type": "code",
      "source": [
        "for seq in sequences.take(5):\n",
        "  print(text_from_ids(seq).numpy())\n",
        "\n",
        "def split_input_target(sequence):\n",
        "    input_text = sequence[:-1]\n",
        "    target_text = sequence[1:]\n",
        "    return input_text, target_text"
      ],
      "metadata": {
        "colab": {
          "base_uri": "https://localhost:8080/"
        },
        "id": "83RfP7PAXKig",
        "outputId": "df517566-4dfc-40c2-fe4d-69e62ea5fc4e"
      },
      "execution_count": null,
      "outputs": [
        {
          "output_type": "stream",
          "name": "stdout",
          "text": [
            "b'First Citizen:\\nBefore we proceed any further, hear me speak.\\n\\nAll:\\nSpeak, speak.\\n\\nFirst Citizen:\\nYou '\n",
            "b'are all resolved rather to die than to famish?\\n\\nAll:\\nResolved. resolved.\\n\\nFirst Citizen:\\nFirst, you k'\n",
            "b\"now Caius Marcius is chief enemy to the people.\\n\\nAll:\\nWe know't, we know't.\\n\\nFirst Citizen:\\nLet us ki\"\n",
            "b\"ll him, and we'll have corn at our own price.\\nIs't a verdict?\\n\\nAll:\\nNo more talking on't; let it be d\"\n",
            "b'one: away, away!\\n\\nSecond Citizen:\\nOne word, good citizens.\\n\\nFirst Citizen:\\nWe are accounted poor citi'\n"
          ]
        }
      ]
    },
    {
      "cell_type": "code",
      "source": [
        "split_input_target(list(\"Tensorflow\"))\n",
        "dataset = sequences.map(split_input_target)\n",
        "for input_example, target_example in dataset.take(1):\n",
        "    print(\"Input :\", text_from_ids(input_example).numpy())\n",
        "    print(\"Target:\", text_from_ids(target_example).numpy())"
      ],
      "metadata": {
        "colab": {
          "base_uri": "https://localhost:8080/"
        },
        "id": "nyCkKxZIXO4J",
        "outputId": "b8f4d76e-e1ed-4160-bff2-b38f10cbc0ef"
      },
      "execution_count": null,
      "outputs": [
        {
          "output_type": "stream",
          "name": "stdout",
          "text": [
            "Input : b'First Citizen:\\nBefore we proceed any further, hear me speak.\\n\\nAll:\\nSpeak, speak.\\n\\nFirst Citizen:\\nYou'\n",
            "Target: b'irst Citizen:\\nBefore we proceed any further, hear me speak.\\n\\nAll:\\nSpeak, speak.\\n\\nFirst Citizen:\\nYou '\n"
          ]
        }
      ]
    },
    {
      "cell_type": "code",
      "source": [
        "# Batch size\n",
        "BATCH_SIZE = 64\n",
        "\n",
        "# Buffer size to shuffle the dataset\n",
        "# (TF data is designed to work with possibly infinite sequences,\n",
        "# so it doesn't attempt to shuffle the entire sequence in memory. Instead,\n",
        "# it maintains a buffer in which it shuffles elements).\n",
        "BUFFER_SIZE = 10000\n",
        "\n",
        "dataset = (\n",
        "    dataset\n",
        "    .shuffle(BUFFER_SIZE)\n",
        "    .batch(BATCH_SIZE, drop_remainder=True)\n",
        "    .prefetch(tf.data.experimental.AUTOTUNE))\n",
        "\n",
        "dataset"
      ],
      "metadata": {
        "colab": {
          "base_uri": "https://localhost:8080/"
        },
        "id": "ymg0ufszXTlA",
        "outputId": "c29630eb-72f8-4264-bba8-2597333e5a58"
      },
      "execution_count": null,
      "outputs": [
        {
          "output_type": "execute_result",
          "data": {
            "text/plain": [
              "<_PrefetchDataset element_spec=(TensorSpec(shape=(64, 100), dtype=tf.int64, name=None), TensorSpec(shape=(64, 100), dtype=tf.int64, name=None))>"
            ]
          },
          "metadata": {},
          "execution_count": 10
        }
      ]
    },
    {
      "cell_type": "code",
      "source": [
        "# Length of the vocabulary in StringLookup Layer\n",
        "vocab_size = len(ids_from_chars.get_vocabulary())\n",
        "\n",
        "# The embedding dimension\n",
        "embedding_dim = 256\n",
        "\n",
        "# Number of RNN units\n",
        "rnn_units = 1024"
      ],
      "metadata": {
        "id": "wDhzmpPnXU6s"
      },
      "execution_count": null,
      "outputs": []
    },
    {
      "cell_type": "markdown",
      "source": [
        "### Build the Model"
      ],
      "metadata": {
        "id": "unACdTz-ZCUL"
      }
    },
    {
      "cell_type": "code",
      "source": [
        "class MyModel(tf.keras.Model):\n",
        "  def __init__(self, vocab_size, embedding_dim, rnn_units):\n",
        "    super().__init__(self)\n",
        "    self.embedding = tf.keras.layers.Embedding(vocab_size, embedding_dim)\n",
        "    self.gru = tf.keras.layers.GRU(rnn_units,\n",
        "                                   return_sequences=True,\n",
        "                                   return_state=True)\n",
        "    self.dense = tf.keras.layers.Dense(vocab_size)\n",
        "\n",
        "  def call(self, inputs, states=None, return_state=False, training=False):\n",
        "    x = inputs\n",
        "    x = self.embedding(x, training=training)\n",
        "    if states is None:\n",
        "      states = self.gru.get_initial_state(x)\n",
        "    x, states = self.gru(x, initial_state=states, training=training)\n",
        "    x = self.dense(x, training=training)\n",
        "\n",
        "    if return_state:\n",
        "      return x, states\n",
        "    else:\n",
        "      return x"
      ],
      "metadata": {
        "id": "M3RTRh7yXXKz"
      },
      "execution_count": null,
      "outputs": []
    },
    {
      "cell_type": "code",
      "source": [
        "model = MyModel(\n",
        "    vocab_size=vocab_size,\n",
        "    embedding_dim=embedding_dim,\n",
        "    rnn_units=rnn_units)"
      ],
      "metadata": {
        "id": "b8yCdAd9XaNk"
      },
      "execution_count": null,
      "outputs": []
    },
    {
      "cell_type": "code",
      "source": [
        "for input_example_batch, target_example_batch in dataset.take(1):\n",
        "    example_batch_predictions = model(input_example_batch)\n",
        "    print(example_batch_predictions.shape, \"# (batch_size, sequence_length, vocab_size)\")\n",
        "model.summary()"
      ],
      "metadata": {
        "colab": {
          "base_uri": "https://localhost:8080/"
        },
        "id": "qMxw5YPoXcEf",
        "outputId": "89bfde3e-aac5-425f-eb77-12230190e749"
      },
      "execution_count": null,
      "outputs": [
        {
          "output_type": "stream",
          "name": "stdout",
          "text": [
            "(64, 100, 66) # (batch_size, sequence_length, vocab_size)\n",
            "Model: \"my_model\"\n",
            "_________________________________________________________________\n",
            " Layer (type)                Output Shape              Param #   \n",
            "=================================================================\n",
            " embedding (Embedding)       multiple                  16896     \n",
            "                                                                 \n",
            " gru (GRU)                   multiple                  3938304   \n",
            "                                                                 \n",
            " dense (Dense)               multiple                  67650     \n",
            "                                                                 \n",
            "=================================================================\n",
            "Total params: 4022850 (15.35 MB)\n",
            "Trainable params: 4022850 (15.35 MB)\n",
            "Non-trainable params: 0 (0.00 Byte)\n",
            "_________________________________________________________________\n"
          ]
        }
      ]
    },
    {
      "cell_type": "code",
      "source": [
        "sampled_indices = tf.random.categorical(example_batch_predictions[0], num_samples=1)\n",
        "sampled_indices = tf.squeeze(sampled_indices, axis=-1).numpy()"
      ],
      "metadata": {
        "id": "bLTGVd53XfDG"
      },
      "execution_count": null,
      "outputs": []
    },
    {
      "cell_type": "code",
      "source": [
        "sampled_indices"
      ],
      "metadata": {
        "colab": {
          "base_uri": "https://localhost:8080/"
        },
        "id": "jAgJ3lWdXiAB",
        "outputId": "56eb684c-2fac-4e62-c1c6-1e704a9ed897"
      },
      "execution_count": null,
      "outputs": [
        {
          "output_type": "execute_result",
          "data": {
            "text/plain": [
              "array([ 7,  7, 21, 23, 51, 42, 19, 51,  5, 24, 36, 25, 40, 21, 43, 20, 47,\n",
              "       47, 53, 22, 13, 30, 61,  3, 14, 13,  5,  2, 42, 36, 21, 29, 12, 50,\n",
              "       42, 13, 18, 35, 45, 52,  5, 59, 15, 11, 14, 54, 13, 34, 27, 28,  4,\n",
              "       55, 42, 53, 13, 11, 17, 64, 27, 57,  5,  5, 13, 47,  1, 12, 18,  4,\n",
              "        8, 43,  6, 51, 37, 45,  0, 60, 59,  6, 63, 65, 60, 53, 43, 48, 41,\n",
              "        2,  7, 45, 50, 10, 40, 19, 44, 62, 15,  9, 36, 57, 48,  6])"
            ]
          },
          "metadata": {},
          "execution_count": 16
        }
      ]
    },
    {
      "cell_type": "code",
      "source": [
        "print(\"Input:\\n\", text_from_ids(input_example_batch[0]).numpy())\n",
        "print()\n",
        "print(\"Next Char Predictions:\\n\", text_from_ids(sampled_indices).numpy())"
      ],
      "metadata": {
        "colab": {
          "base_uri": "https://localhost:8080/"
        },
        "id": "_qmGtPzeXjEO",
        "outputId": "bddf9a63-b705-4095-a387-208dcc4459d1"
      },
      "execution_count": null,
      "outputs": [
        {
          "output_type": "stream",
          "name": "stdout",
          "text": [
            "Input:\n",
            " b's the benefit of access?\\nevery wink of an eye some new grace will be born:\\nour absence makes us unth'\n",
            "\n",
            "Next Char Predictions:\n",
            " b\",,HJlcFl&KWLaHdGhhnI?Qv!A?& cWHP;kc?EVfm&tB:Ao?UNO$pcn?:DyNr&&?h\\n;E$-d'lXf[UNK]ut'xzundib ,fk3aFewB.Wri'\"\n"
          ]
        }
      ]
    },
    {
      "cell_type": "code",
      "source": [
        "loss = tf.losses.SparseCategoricalCrossentropy(from_logits=True)\n",
        "\n",
        "example_batch_mean_loss = loss(target_example_batch, example_batch_predictions)\n",
        "print(\"Prediction shape: \", example_batch_predictions.shape, \" # (batch_size, sequence_length, vocab_size)\")\n",
        "print(\"Mean loss:        \", example_batch_mean_loss)\n",
        "\n",
        "tf.exp(example_batch_mean_loss).numpy()"
      ],
      "metadata": {
        "colab": {
          "base_uri": "https://localhost:8080/"
        },
        "id": "RKPXJFe8XkYh",
        "outputId": "06d71243-b24b-4c06-8214-73c3e82df9b1"
      },
      "execution_count": null,
      "outputs": [
        {
          "output_type": "stream",
          "name": "stdout",
          "text": [
            "Prediction shape:  (64, 100, 66)  # (batch_size, sequence_length, vocab_size)\n",
            "Mean loss:         tf.Tensor(4.190069, shape=(), dtype=float32)\n"
          ]
        },
        {
          "output_type": "execute_result",
          "data": {
            "text/plain": [
              "66.02736"
            ]
          },
          "metadata": {},
          "execution_count": 18
        }
      ]
    },
    {
      "cell_type": "code",
      "source": [
        "model.compile(optimizer='adam', loss=loss)"
      ],
      "metadata": {
        "id": "2rHGacgzXnol"
      },
      "execution_count": null,
      "outputs": []
    },
    {
      "cell_type": "code",
      "source": [
        "# Directory where the checkpoints will be saved\n",
        "checkpoint_dir = './training_checkpoints'\n",
        "# Name of the checkpoint files\n",
        "checkpoint_prefix = os.path.join(checkpoint_dir, \"ckpt_{epoch}\")\n",
        "\n",
        "checkpoint_callback = tf.keras.callbacks.ModelCheckpoint(\n",
        "    filepath=checkpoint_prefix,\n",
        "    save_weights_only=True)"
      ],
      "metadata": {
        "id": "rJrVIS5lXpPv"
      },
      "execution_count": null,
      "outputs": []
    },
    {
      "cell_type": "markdown",
      "source": [
        "### Train the model"
      ],
      "metadata": {
        "id": "CdQS__0xZm0f"
      }
    },
    {
      "cell_type": "code",
      "source": [
        "EPOCHS = 20\n",
        "history = model.fit(dataset, epochs=EPOCHS, callbacks=[checkpoint_callback])"
      ],
      "metadata": {
        "colab": {
          "base_uri": "https://localhost:8080/"
        },
        "id": "DGEzvc6rXqSu",
        "outputId": "e1fb00fc-8a08-40dc-d8f9-216af0a9192b"
      },
      "execution_count": null,
      "outputs": [
        {
          "output_type": "stream",
          "name": "stdout",
          "text": [
            "Epoch 1/20\n",
            "172/172 [==============================] - 14s 51ms/step - loss: 2.7025\n",
            "Epoch 2/20\n",
            "172/172 [==============================] - 11s 50ms/step - loss: 1.9737\n",
            "Epoch 3/20\n",
            "172/172 [==============================] - 11s 50ms/step - loss: 1.7010\n",
            "Epoch 4/20\n",
            "172/172 [==============================] - 10s 51ms/step - loss: 1.5446\n",
            "Epoch 5/20\n",
            "172/172 [==============================] - 10s 51ms/step - loss: 1.4474\n",
            "Epoch 6/20\n",
            "172/172 [==============================] - 11s 52ms/step - loss: 1.3813\n",
            "Epoch 7/20\n",
            "172/172 [==============================] - 10s 52ms/step - loss: 1.3298\n",
            "Epoch 8/20\n",
            "172/172 [==============================] - 11s 52ms/step - loss: 1.2849\n",
            "Epoch 9/20\n",
            "172/172 [==============================] - 12s 52ms/step - loss: 1.2436\n",
            "Epoch 10/20\n",
            "172/172 [==============================] - 11s 53ms/step - loss: 1.2042\n",
            "Epoch 11/20\n",
            "172/172 [==============================] - 11s 53ms/step - loss: 1.1642\n",
            "Epoch 12/20\n",
            "172/172 [==============================] - 11s 53ms/step - loss: 1.1230\n",
            "Epoch 13/20\n",
            "172/172 [==============================] - 11s 54ms/step - loss: 1.0799\n",
            "Epoch 14/20\n",
            "172/172 [==============================] - 11s 54ms/step - loss: 1.0346\n",
            "Epoch 15/20\n",
            "172/172 [==============================] - 11s 54ms/step - loss: 0.9858\n",
            "Epoch 16/20\n",
            "172/172 [==============================] - 11s 54ms/step - loss: 0.9348\n",
            "Epoch 17/20\n",
            "172/172 [==============================] - 11s 55ms/step - loss: 0.8839\n",
            "Epoch 18/20\n",
            "172/172 [==============================] - 11s 54ms/step - loss: 0.8315\n",
            "Epoch 19/20\n",
            "172/172 [==============================] - 11s 54ms/step - loss: 0.7820\n",
            "Epoch 20/20\n",
            "172/172 [==============================] - 11s 55ms/step - loss: 0.7335\n"
          ]
        }
      ]
    },
    {
      "cell_type": "markdown",
      "source": [
        "### generate Next step of given input"
      ],
      "metadata": {
        "id": "tCMRWdS-lkjL"
      }
    },
    {
      "cell_type": "code",
      "source": [
        "class OneStep(tf.keras.Model):\n",
        "  def __init__(self, model, chars_from_ids, ids_from_chars, temperature=1.0):\n",
        "    super().__init__()\n",
        "    self.temperature = temperature\n",
        "    self.model = model\n",
        "    self.chars_from_ids = chars_from_ids\n",
        "    self.ids_from_chars = ids_from_chars\n",
        "\n",
        "    # Create a mask to prevent \"[UNK]\" from being generated.\n",
        "    skip_ids = self.ids_from_chars(['[UNK]'])[:, None]\n",
        "    sparse_mask = tf.SparseTensor(\n",
        "        # Put a -inf at each bad index.\n",
        "        values=[-float('inf')]*len(skip_ids),\n",
        "        indices=skip_ids,\n",
        "        # Match the shape to the vocabulary\n",
        "        dense_shape=[len(ids_from_chars.get_vocabulary())])\n",
        "    self.prediction_mask = tf.sparse.to_dense(sparse_mask)\n",
        "\n",
        "  @tf.function\n",
        "  def generate_one_step(self, inputs, states=None):\n",
        "    # Convert strings to token IDs.\n",
        "    input_chars = tf.strings.unicode_split(inputs, 'UTF-8')\n",
        "    input_ids = self.ids_from_chars(input_chars).to_tensor()\n",
        "\n",
        "    # Run the model.\n",
        "    # predicted_logits.shape is [batch, char, next_char_logits]\n",
        "    predicted_logits, states = self.model(inputs=input_ids, states=states,\n",
        "                                          return_state=True)\n",
        "    # Only use the last prediction.\n",
        "    predicted_logits = predicted_logits[:, -1, :]\n",
        "    predicted_logits = predicted_logits/self.temperature\n",
        "    # Apply the prediction mask: prevent \"[UNK]\" from being generated.\n",
        "    predicted_logits = predicted_logits + self.prediction_mask\n",
        "\n",
        "    # Sample the output logits to generate token IDs.\n",
        "    predicted_ids = tf.random.categorical(predicted_logits, num_samples=1)\n",
        "    predicted_ids = tf.squeeze(predicted_ids, axis=-1)\n",
        "\n",
        "    # Convert from token ids to characters\n",
        "    predicted_chars = self.chars_from_ids(predicted_ids)\n",
        "\n",
        "    # Return the characters and model state.\n",
        "    return predicted_chars, states"
      ],
      "metadata": {
        "id": "6uqZ9wqDXsLx"
      },
      "execution_count": null,
      "outputs": []
    },
    {
      "cell_type": "code",
      "source": [
        "one_step_model = OneStep(model, chars_from_ids, ids_from_chars)"
      ],
      "metadata": {
        "id": "ee4ko4clXuf1"
      },
      "execution_count": null,
      "outputs": []
    },
    {
      "cell_type": "markdown",
      "source": [
        "### Pass a token to generate next step"
      ],
      "metadata": {
        "id": "W-mBrusllnTb"
      }
    },
    {
      "cell_type": "code",
      "source": [
        "start = time.time()\n",
        "states = None\n",
        "next_char = tf.constant(['ROMEO:'])\n",
        "result = [next_char]\n",
        "\n",
        "for n in range(1000):\n",
        "  next_char, states = one_step_model.generate_one_step(next_char, states=states)\n",
        "  result.append(next_char)\n",
        "\n",
        "result = tf.strings.join(result)\n",
        "end = time.time()\n",
        "print(result[0].numpy().decode('utf-8'), '\\n\\n' + '_'*80)\n",
        "print('\\nRun time:', end - start)"
      ],
      "metadata": {
        "colab": {
          "base_uri": "https://localhost:8080/"
        },
        "id": "UVWbZmMeXwGZ",
        "outputId": "d874aa4a-23e6-4ca9-c0d5-f1b8c72ba58b"
      },
      "execution_count": null,
      "outputs": [
        {
          "output_type": "stream",
          "name": "stdout",
          "text": [
            "ROMEO:\n",
            "Thy father have by me all undought: alas! she's come to Saw a breath,\n",
            "Which the maim hath been as changed nor point the time.\n",
            "\n",
            "WARWICK:\n",
            "Thy father prays the bast: here's nothing altory,\n",
            "As wealth is false, Even with the staggers dare\n",
            "With wark upon my fee-the cup after\n",
            "with thy heart's end. The tamings of thy provess?\n",
            "\n",
            "CLARENCE:\n",
            "Rothing my flocks and second nurse,\n",
            "If by the infineature prevails,\n",
            "Therefore we'll fall oug with the hearts of heaven.\n",
            "\n",
            "KATHARINA:\n",
            "O mend of good, I say! do not do kinsm and I.\n",
            "\n",
            "LUCIO:\n",
            "'Faith, well; yet melts with curses.\n",
            "\n",
            "LADY GREY:\n",
            "I do beseech you, we do hend to see the other:\n",
            "Sith't please your father taker meaning,\n",
            "Our pennying furious southern, whom\n",
            "they cannot inquir a second marriage;\n",
            "That we rach pardon edies '' fair our carvise\n",
            "So did we pray thee with thy breast:\n",
            "To Marsh I seek for you wot.\n",
            "\n",
            "MERCUTIO:\n",
            "A simple, or a gentleman live:\n",
            "Therefore let us with counis; I knew his face,\n",
            "it is my underdant to thee.\n",
            "Have you a back'd brother, boy.\n",
            "\n",
            "Boatswain \n",
            "\n",
            "________________________________________________________________________________\n",
            "\n",
            "Run time: 3.2332723140716553\n"
          ]
        }
      ]
    },
    {
      "cell_type": "markdown",
      "source": [
        "### Passs multiple tokens to generate sequence/story"
      ],
      "metadata": {
        "id": "mFGQrMrflu8f"
      }
    },
    {
      "cell_type": "code",
      "source": [
        "start = time.time()\n",
        "states = None\n",
        "next_char = tf.constant(['ROMEO:', 'ROMEO:', 'ROMEO:', 'ROMEO:', 'ROMEO:'])\n",
        "result = [next_char]\n",
        "\n",
        "for n in range(1000):\n",
        "  next_char, states = one_step_model.generate_one_step(next_char, states=states)\n",
        "  result.append(next_char)\n",
        "\n",
        "result = tf.strings.join(result)\n",
        "end = time.time()\n",
        "print(result, '\\n\\n' + '_'*80)\n",
        "print('\\nRun time:', end - start)"
      ],
      "metadata": {
        "colab": {
          "base_uri": "https://localhost:8080/"
        },
        "id": "1zZROQIyXxB0",
        "outputId": "21b505b8-f9c3-457e-d271-a8d5440cf8c4"
      },
      "execution_count": null,
      "outputs": [
        {
          "output_type": "stream",
          "name": "stdout",
          "text": [
            "tf.Tensor(\n",
            "[b\"ROMEO:\\nThou and thy heart's sigh'?\\n\\nKATHARINA:\\nAnd signify the argy; sentenced with brows! Romeo!\\n\\nDUCHESS OF YORK:\\nA colllbst prieve I hear it.\\nO simp lenation; Now, dan's your houselfole\\nMake the precious skit o' the city; and\\nMore worthier than the other, who\\nHave worn to be many are requited, cardins\\nDishonourable hangman: mownay,\\nTo kill my knell. Look, sir, to sake, law, by this.\\n\\nTYRREL:\\nAffections, good cou,se in the right, this is true.\\nThe forfess to thee back again to my heart;\\nBut I hate them at the garland.\\n\\nQUEEN MARGARET:\\nBut thou wert taken from thy proper love,\\nImbly this devouring gently dove,\\nRathend these eyes of kings, and I.\\nSo shalt thou hast showed ones, and I will never be\\nTro: yours, which, here's flag-enringer and myself,\\npheditifal-popition, your false pity,\\nWhich never tender Clifford cannot me.\\n\\nThird Servingman:\\nI beseech you, let it be to-morrow; nay, by this stay,\\nTo silence hang in mercy to again to command,\\nAs there divines less spirit nor leave his life,\\nI\"\n",
            " b\"ROMEO:\\nNor I;\\nThe people cousin you shall quickly deny.\\n\\nQUEEN:\\nThis ways divine, and then from steps a trick of given in death\\nLike damnable, tetchies. Nay, know\\nIt is upon me: in noble Bolings\\nHath wed your name? longer say! Therefore, no more: but I did\\nneeds but words? Still you that till\\nthis sake and prince my sword hours in the chine;\\nRessue, cousin, let him say 'not heavy mother.\\nThe law, my horse, and some me boldly as white\\nShall nothing doing to meet you on my head, and grow,\\nFor Edward's shame. But, signifies! O prayers!\\nThe queen revenges furgher, bearing men,\\nAnd I will make thee take the brain'd traitor\\nTo this design. Which to armour as it is,\\nWhere were he time supposes with such lips.\\n\\nKING HENRY VI:\\nHere come the county says that cannot lick my case. This fight have I dren:\\nLen thee, how fear, a thief to counterprite!\\nThough I by think it first before he issul against\\nMake full of your yonder enemies.\\n\\nKING RICHARD II:\\nThings take this peder reverseral long,\\nLive me, this \"\n",
            " b\"ROMEO:\\nYour lordship's young conspire, I talk no more of marriage?\\n\\nELBOW:\\nMarry, sir; therefore, follow us on, and thou none a traitor!\\nComin, hence, my Lord of Holfor,\\nO, not by marrying wind his grace.\\n\\nCLARENCE:\\nBo holy as my brother's death,\\nThat every revenge prompt so ill deep in\\nthe king promp to the queen she say, that fellow'd thee?\\n\\nLADY GREY:\\nThe most life delivered himself,\\nSince thou shouldst suspect I appent.\\n\\nLADY ANNE:\\nAll his frailty, do your faithful leave of thy\\nforces strew, to chide you from his love with heavy. As word, father;\\nHis lectler is the quenched honesty,\\nThings gentleman, trusty in his alliandry,\\nVarlius with which is reterm'd\\nTo bid her hearing How such a cat from Rome,\\nAs lovering palmon's merciliars to lose, what\\nwould thou, prithee say that Margaret's cloth:\\nRight, my prosperitan! This delight me\\nAn if the quesch drag nor practice subscuried myself,\\nMade me mine own day wnows are more but to begin.\\n\\nKING EDWARD IV:\\nNow do your curse I have swift called go\"\n",
            " b\"ROMEO:\\nThe foperaty priests are as monstrous with his\\nbehalf but insinuness.\\n\\nLord Mayor:\\n\\nLADY CAPULET:\\nMany any title I have received the king\\nOf what is grown to speak.\\nNow, sir!\\n\\nPOLIXENES:\\nThis same both lay mercy?\\nAnd call me hubly breath; we nide the fleer\\nTo the jettest thar I have obscuded,\\nWere not the firm, of all my friends;' quoth I,\\n'Thou mayst need warking in his nerse.\\nThis doubter-man, this way His bitter's sword!\\n\\nQUEEN ELIZABETH:\\nCan I be Execution, is to confen,\\nTo be thus blame, sit beating in my misery, if\\nthey say, that we have washed upon our backs,\\nStand we more, with that temper ward-charped to thyself\\nThey talk between me again on with my brother,\\nBecause so we all reason, curs in my desire.\\nFor me towards Norfolk, and my nothing to York:\\nUnle-ward way thy part, that he hath power.\\n\\nLUCIO:\\nHerce, this vassal, therefore, follow.--\\n\\nCAMILLO:\\nGlad has the Duke of Hereford, brave with me;\\nUnder you, Lord Angelo?\\n\\nDUKE VINCENTIO:\\nWe are not darel.\\n\\nFirst Murderer:\\nRegai\"\n",
            " b\"ROMEO:\\nYet entire you: I thank my name; but, I spy din\\ncry out.\\n\\nGLOUCESTER:\\nWe are not taken upon her brother.\\n\\nDUKE VINCENTIO:\\nAnd what of mine, that you may deserve\\nTo give hath the imagined of the heart doge born:\\nWe must wield and ever ran, or virtuous wights--worthy Volscia,--\\n\\nJULIET:\\nAy, that's the rarest, how seems hid ignorant,\\nproge. You promised me as I lay meet I die,\\nOr by the narrow land's increaseth.\\n\\nKING RICHARD II:\\nHe sits and endeed her age, sirraht.\\n\\nGLOUCESTER:\\nI wonder how to act? Beneight to, friar,\\nOur Romeo but a trade, when he shall be\\nThe Boar's of all that he is dead.\\n\\nSEBASTIAN:\\nYou say you say: You love the\\nmother had been therein?\\n\\nPedant:\\nHelp, relieve as good my lord,\\nLet us the wars of civilence! and therefore be not for\\nThis sevand seals most wish and Romeo.\\n\\nROMEO:\\nA sweet Laurence' care, sit down;\\nAnd when was with case pray that you read\\nyou'll talk of heart that efford-hath pale, I'll bear\\nA glossoms of thy misery!\\nLive, a lamb, whose loves and heaven \"], shape=(5,), dtype=string) \n",
            "\n",
            "________________________________________________________________________________\n",
            "\n",
            "Run time: 4.382899522781372\n"
          ]
        }
      ]
    },
    {
      "cell_type": "code",
      "source": [],
      "metadata": {
        "id": "qk3nYk26l6X1"
      },
      "execution_count": null,
      "outputs": []
    },
    {
      "cell_type": "code",
      "source": [],
      "metadata": {
        "id": "pN2emFNeXyYy"
      },
      "execution_count": null,
      "outputs": []
    },
    {
      "cell_type": "code",
      "source": [],
      "metadata": {
        "id": "45uzhmu8X0H-"
      },
      "execution_count": null,
      "outputs": []
    },
    {
      "cell_type": "code",
      "source": [],
      "metadata": {
        "id": "G1UHhiBsX1QK"
      },
      "execution_count": null,
      "outputs": []
    }
  ]
}